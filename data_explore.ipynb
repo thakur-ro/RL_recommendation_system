{
 "cells": [
  {
   "cell_type": "code",
   "execution_count": 79,
   "id": "fdae06af",
   "metadata": {},
   "outputs": [],
   "source": [
    "import tensorflow as tf\n",
    "import pandas as pd\n",
    "import numpy as np\n",
    "import scipy as sp\n",
    "import matplotlib.pyplot as plt"
   ]
  },
  {
   "cell_type": "code",
   "execution_count": 80,
   "id": "52be8896",
   "metadata": {},
   "outputs": [
    {
     "name": "stdout",
     "output_type": "stream",
     "text": [
      "2.6.0\n"
     ]
    }
   ],
   "source": [
    "print(tf.__version__)"
   ]
  },
  {
   "cell_type": "code",
   "execution_count": 12,
   "id": "34f2f1d0",
   "metadata": {},
   "outputs": [
    {
     "name": "stdout",
     "output_type": "stream",
     "text": [
      "Executing op _EagerConst in device /job:localhost/replica:0/task:0/device:GPU:0\n",
      "Executing op _EagerConst in device /job:localhost/replica:0/task:0/device:GPU:0\n",
      "Executing op MatMul in device /job:localhost/replica:0/task:0/device:GPU:0\n",
      "tf.Tensor(\n",
      "[[22. 28.]\n",
      " [49. 64.]], shape=(2, 2), dtype=float32)\n"
     ]
    }
   ],
   "source": [
    "#Test tensorflow with GPU\n",
    "tf.debugging.set_log_device_placement(True)\n",
    "\n",
    "# Place tensors on the CPU\n",
    "with tf.device('/GPU:0'):\n",
    "  a = tf.constant([[1.0, 2.0, 3.0], [4.0, 5.0, 6.0]])\n",
    "  b = tf.constant([[1.0, 2.0], [3.0, 4.0], [5.0, 6.0]])\n",
    "\n",
    "# Run on the GPU\n",
    "c = tf.matmul(a, b)\n",
    "print(c)"
   ]
  },
  {
   "cell_type": "code",
   "execution_count": 15,
   "id": "3b029979",
   "metadata": {},
   "outputs": [
    {
     "name": "stdout",
     "output_type": "stream",
     "text": [
      "/Users/rthakur/RL_project\n"
     ]
    }
   ],
   "source": [
    "import os\n",
    "print(os.getcwd())"
   ]
  },
  {
   "cell_type": "code",
   "execution_count": 17,
   "id": "1f011758",
   "metadata": {},
   "outputs": [
    {
     "name": "stdout",
     "output_type": "stream",
     "text": [
      "Electronics.csv       meta_Electronics.json\r\n"
     ]
    }
   ],
   "source": [
    "!ls data"
   ]
  },
  {
   "cell_type": "code",
   "execution_count": 81,
   "id": "6ab7a798",
   "metadata": {},
   "outputs": [],
   "source": [
    "ratings = pd.read_csv('data/Electronics.csv')"
   ]
  },
  {
   "cell_type": "code",
   "execution_count": 82,
   "id": "ae4dcd13",
   "metadata": {},
   "outputs": [
    {
     "data": {
      "text/html": [
       "<div>\n",
       "<style scoped>\n",
       "    .dataframe tbody tr th:only-of-type {\n",
       "        vertical-align: middle;\n",
       "    }\n",
       "\n",
       "    .dataframe tbody tr th {\n",
       "        vertical-align: top;\n",
       "    }\n",
       "\n",
       "    .dataframe thead th {\n",
       "        text-align: right;\n",
       "    }\n",
       "</style>\n",
       "<table border=\"1\" class=\"dataframe\">\n",
       "  <thead>\n",
       "    <tr style=\"text-align: right;\">\n",
       "      <th></th>\n",
       "      <th>0060009810</th>\n",
       "      <th>A1N070NS9CJQ2I</th>\n",
       "      <th>5.0</th>\n",
       "      <th>1026864000</th>\n",
       "    </tr>\n",
       "  </thead>\n",
       "  <tbody>\n",
       "    <tr>\n",
       "      <th>0</th>\n",
       "      <td>0060009810</td>\n",
       "      <td>A3P0KRKOBQK1KN</td>\n",
       "      <td>5.0</td>\n",
       "      <td>1025913600</td>\n",
       "    </tr>\n",
       "    <tr>\n",
       "      <th>1</th>\n",
       "      <td>0060009810</td>\n",
       "      <td>A192HO2ICJ75VU</td>\n",
       "      <td>5.0</td>\n",
       "      <td>1025654400</td>\n",
       "    </tr>\n",
       "    <tr>\n",
       "      <th>2</th>\n",
       "      <td>0060009810</td>\n",
       "      <td>A2T278FKFL3BLT</td>\n",
       "      <td>4.0</td>\n",
       "      <td>1025395200</td>\n",
       "    </tr>\n",
       "    <tr>\n",
       "      <th>3</th>\n",
       "      <td>0060009810</td>\n",
       "      <td>A2ZUXVTW8RXBXW</td>\n",
       "      <td>5.0</td>\n",
       "      <td>1025222400</td>\n",
       "    </tr>\n",
       "    <tr>\n",
       "      <th>4</th>\n",
       "      <td>0060009810</td>\n",
       "      <td>A21JDG4HA6OLPF</td>\n",
       "      <td>4.0</td>\n",
       "      <td>1024963200</td>\n",
       "    </tr>\n",
       "  </tbody>\n",
       "</table>\n",
       "</div>"
      ],
      "text/plain": [
       "   0060009810  A1N070NS9CJQ2I  5.0  1026864000\n",
       "0  0060009810  A3P0KRKOBQK1KN  5.0  1025913600\n",
       "1  0060009810  A192HO2ICJ75VU  5.0  1025654400\n",
       "2  0060009810  A2T278FKFL3BLT  4.0  1025395200\n",
       "3  0060009810  A2ZUXVTW8RXBXW  5.0  1025222400\n",
       "4  0060009810  A21JDG4HA6OLPF  4.0  1024963200"
      ]
     },
     "execution_count": 82,
     "metadata": {},
     "output_type": "execute_result"
    }
   ],
   "source": [
    "ratings.head()"
   ]
  },
  {
   "cell_type": "code",
   "execution_count": 83,
   "id": "898a24bd",
   "metadata": {},
   "outputs": [],
   "source": [
    "meta = pd.read_json('data/meta_Electronics.json',lines=True,chunksize=10000)"
   ]
  },
  {
   "cell_type": "code",
   "execution_count": 90,
   "id": "82bb5d7e",
   "metadata": {},
   "outputs": [],
   "source": [
    "cols = ['category','description','title','brand','feature','date','price','asin']\n",
    "metadata_df = pd.DataFrame()\n",
    "for chunk in meta:\n",
    "    df = pd.DataFrame(chunk,columns=cols)\n",
    "    metadata_df = metadata_df.append(df)\n",
    "metadata_df.to_csv('data/chunks/metadata_df.csv',index=False)\n",
    "metadata_df.reset_index(drop = True,inplace=True)"
   ]
  },
  {
   "cell_type": "code",
   "execution_count": 97,
   "id": "01a2269f",
   "metadata": {},
   "outputs": [
    {
     "data": {
      "text/html": [
       "<div>\n",
       "<style scoped>\n",
       "    .dataframe tbody tr th:only-of-type {\n",
       "        vertical-align: middle;\n",
       "    }\n",
       "\n",
       "    .dataframe tbody tr th {\n",
       "        vertical-align: top;\n",
       "    }\n",
       "\n",
       "    .dataframe thead th {\n",
       "        text-align: right;\n",
       "    }\n",
       "</style>\n",
       "<table border=\"1\" class=\"dataframe\">\n",
       "  <thead>\n",
       "    <tr style=\"text-align: right;\">\n",
       "      <th></th>\n",
       "      <th>category</th>\n",
       "      <th>description</th>\n",
       "      <th>title</th>\n",
       "      <th>brand</th>\n",
       "      <th>feature</th>\n",
       "      <th>date</th>\n",
       "      <th>price</th>\n",
       "      <th>asin</th>\n",
       "    </tr>\n",
       "  </thead>\n",
       "  <tbody>\n",
       "    <tr>\n",
       "      <th>0</th>\n",
       "      <td>[Electronics, Portable Audio &amp; Video, MP3 &amp; MP...</td>\n",
       "      <td>[Pic N Roll HD-900 5GB MP3 Player with Full Co...</td>\n",
       "      <td>5GB MP3 Player with Full Color Viewer</td>\n",
       "      <td>Pic 'N Roll</td>\n",
       "      <td>[PICNROLL MP3 PLAYER W/ 5GB &amp; LCD VIEWER]</td>\n",
       "      <td>November 21, 2005</td>\n",
       "      <td></td>\n",
       "      <td>B000E78Y7U</td>\n",
       "    </tr>\n",
       "    <tr>\n",
       "      <th>1</th>\n",
       "      <td>[Electronics, Computers &amp; Accessories, Compute...</td>\n",
       "      <td>[The ATI Radeon X1900 XTX Pro Graphics Card pr...</td>\n",
       "      <td>ATI Radeon X1900 XTX 512 MB PCIE Video Card</td>\n",
       "      <td>ATI</td>\n",
       "      <td>[512-bit internal ring bus for memory reads, 4...</td>\n",
       "      <td>January 6, 2006</td>\n",
       "      <td></td>\n",
       "      <td>B000E78A1K</td>\n",
       "    </tr>\n",
       "    <tr>\n",
       "      <th>2</th>\n",
       "      <td>[Electronics, eBook Readers &amp; Accessories, Cov...</td>\n",
       "      <td>[]</td>\n",
       "      <td>Kensington 62362 Saddlebag Ultra Notebook Comp...</td>\n",
       "      <td>Kensington Technology</td>\n",
       "      <td>[]</td>\n",
       "      <td></td>\n",
       "      <td></td>\n",
       "      <td>B000E7AC0W</td>\n",
       "    </tr>\n",
       "    <tr>\n",
       "      <th>3</th>\n",
       "      <td>[Electronics, Camera &amp; Photo, Accessories, Bat...</td>\n",
       "      <td>[]</td>\n",
       "      <td>Insten&amp;reg; Replacement for Compatible Recharg...</td>\n",
       "      <td>eForCity</td>\n",
       "      <td>[]</td>\n",
       "      <td>January 25, 2006</td>\n",
       "      <td></td>\n",
       "      <td>B000E7AKEK</td>\n",
       "    </tr>\n",
       "    <tr>\n",
       "      <th>4</th>\n",
       "      <td>[Electronics, Camera &amp; Photo, Accessories, Bat...</td>\n",
       "      <td>[]</td>\n",
       "      <td>NB-3L Battery Charger</td>\n",
       "      <td>Ereplacements</td>\n",
       "      <td>[]</td>\n",
       "      <td>October 2, 2001</td>\n",
       "      <td></td>\n",
       "      <td>B000E7AKEU</td>\n",
       "    </tr>\n",
       "  </tbody>\n",
       "</table>\n",
       "</div>"
      ],
      "text/plain": [
       "                                            category  \\\n",
       "0  [Electronics, Portable Audio & Video, MP3 & MP...   \n",
       "1  [Electronics, Computers & Accessories, Compute...   \n",
       "2  [Electronics, eBook Readers & Accessories, Cov...   \n",
       "3  [Electronics, Camera & Photo, Accessories, Bat...   \n",
       "4  [Electronics, Camera & Photo, Accessories, Bat...   \n",
       "\n",
       "                                         description  \\\n",
       "0  [Pic N Roll HD-900 5GB MP3 Player with Full Co...   \n",
       "1  [The ATI Radeon X1900 XTX Pro Graphics Card pr...   \n",
       "2                                                 []   \n",
       "3                                                 []   \n",
       "4                                                 []   \n",
       "\n",
       "                                               title                  brand  \\\n",
       "0              5GB MP3 Player with Full Color Viewer            Pic 'N Roll   \n",
       "1        ATI Radeon X1900 XTX 512 MB PCIE Video Card                    ATI   \n",
       "2  Kensington 62362 Saddlebag Ultra Notebook Comp...  Kensington Technology   \n",
       "3  Insten&reg; Replacement for Compatible Recharg...               eForCity   \n",
       "4                              NB-3L Battery Charger          Ereplacements   \n",
       "\n",
       "                                             feature               date price  \\\n",
       "0          [PICNROLL MP3 PLAYER W/ 5GB & LCD VIEWER]  November 21, 2005         \n",
       "1  [512-bit internal ring bus for memory reads, 4...    January 6, 2006         \n",
       "2                                                 []                            \n",
       "3                                                 []   January 25, 2006         \n",
       "4                                                 []    October 2, 2001         \n",
       "\n",
       "         asin  \n",
       "0  B000E78Y7U  \n",
       "1  B000E78A1K  \n",
       "2  B000E7AC0W  \n",
       "3  B000E7AKEK  \n",
       "4  B000E7AKEU  "
      ]
     },
     "execution_count": 97,
     "metadata": {},
     "output_type": "execute_result"
    }
   ],
   "source": [
    "metadata_df.head()"
   ]
  },
  {
   "cell_type": "code",
   "execution_count": null,
   "id": "1de708ce",
   "metadata": {},
   "outputs": [],
   "source": []
  }
 ],
 "metadata": {
  "kernelspec": {
   "display_name": ".venv",
   "language": "python",
   "name": ".venv"
  },
  "language_info": {
   "codemirror_mode": {
    "name": "ipython",
    "version": 3
   },
   "file_extension": ".py",
   "mimetype": "text/x-python",
   "name": "python",
   "nbconvert_exporter": "python",
   "pygments_lexer": "ipython3",
   "version": "3.8.10"
  }
 },
 "nbformat": 4,
 "nbformat_minor": 5
}
