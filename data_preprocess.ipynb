{
 "cells": [
  {
   "cell_type": "code",
   "execution_count": 2,
   "id": "e9ad86f3",
   "metadata": {},
   "outputs": [],
   "source": [
    "import pandas as pd\n",
    "import numpy as np\n",
    "import tensorflow as tf\n",
    "import csv\n",
    "from collections import defaultdict\n",
    "import tqdm"
   ]
  },
  {
   "cell_type": "code",
   "execution_count": 78,
   "id": "877f19f2",
   "metadata": {},
   "outputs": [],
   "source": [
    "df = pd.read_csv('data/sample_df.csv')"
   ]
  },
  {
   "cell_type": "code",
   "execution_count": 83,
   "id": "31eecf44",
   "metadata": {},
   "outputs": [],
   "source": [
    "df.drop(columns=['Unnamed: 0','index','rating_y'],inplace=True)\n",
    "df.columns = ['item','user','rating','timestamp']"
   ]
  },
  {
   "cell_type": "code",
   "execution_count": 84,
   "id": "15989e38",
   "metadata": {},
   "outputs": [
    {
     "data": {
      "text/html": [
       "<div>\n",
       "<style scoped>\n",
       "    .dataframe tbody tr th:only-of-type {\n",
       "        vertical-align: middle;\n",
       "    }\n",
       "\n",
       "    .dataframe tbody tr th {\n",
       "        vertical-align: top;\n",
       "    }\n",
       "\n",
       "    .dataframe thead th {\n",
       "        text-align: right;\n",
       "    }\n",
       "</style>\n",
       "<table border=\"1\" class=\"dataframe\">\n",
       "  <thead>\n",
       "    <tr style=\"text-align: right;\">\n",
       "      <th></th>\n",
       "      <th>item</th>\n",
       "      <th>user</th>\n",
       "      <th>rating</th>\n",
       "      <th>timestamp</th>\n",
       "    </tr>\n",
       "  </thead>\n",
       "  <tbody>\n",
       "    <tr>\n",
       "      <th>0</th>\n",
       "      <td>0972683275</td>\n",
       "      <td>A1MNILX1J1NWV7</td>\n",
       "      <td>4.0</td>\n",
       "      <td>1464825600</td>\n",
       "    </tr>\n",
       "    <tr>\n",
       "      <th>1</th>\n",
       "      <td>0972683275</td>\n",
       "      <td>A1JPB4BJHNCSWR</td>\n",
       "      <td>5.0</td>\n",
       "      <td>1409184000</td>\n",
       "    </tr>\n",
       "    <tr>\n",
       "      <th>2</th>\n",
       "      <td>0972683275</td>\n",
       "      <td>A2A3B0JX2JRS6S</td>\n",
       "      <td>5.0</td>\n",
       "      <td>1379462400</td>\n",
       "    </tr>\n",
       "    <tr>\n",
       "      <th>3</th>\n",
       "      <td>0972683275</td>\n",
       "      <td>A2BLGQ2SCSKCCY</td>\n",
       "      <td>5.0</td>\n",
       "      <td>1358812800</td>\n",
       "    </tr>\n",
       "    <tr>\n",
       "      <th>4</th>\n",
       "      <td>0972683275</td>\n",
       "      <td>A21OS6PWQG5YOO</td>\n",
       "      <td>5.0</td>\n",
       "      <td>1337904000</td>\n",
       "    </tr>\n",
       "    <tr>\n",
       "      <th>...</th>\n",
       "      <td>...</td>\n",
       "      <td>...</td>\n",
       "      <td>...</td>\n",
       "      <td>...</td>\n",
       "    </tr>\n",
       "    <tr>\n",
       "      <th>95795</th>\n",
       "      <td>B01H4OYJNI</td>\n",
       "      <td>A2QIFKUBK053ZC</td>\n",
       "      <td>5.0</td>\n",
       "      <td>1531008000</td>\n",
       "    </tr>\n",
       "    <tr>\n",
       "      <th>95796</th>\n",
       "      <td>B01H4YTHWG</td>\n",
       "      <td>A2SOSDOBI6AHJI</td>\n",
       "      <td>5.0</td>\n",
       "      <td>1537920000</td>\n",
       "    </tr>\n",
       "    <tr>\n",
       "      <th>95797</th>\n",
       "      <td>B01H4ZLZLQ</td>\n",
       "      <td>A3CHC46D65IH4H</td>\n",
       "      <td>4.0</td>\n",
       "      <td>1536019200</td>\n",
       "    </tr>\n",
       "    <tr>\n",
       "      <th>95798</th>\n",
       "      <td>B01HGV7M7Y</td>\n",
       "      <td>A1F7KIIWHPQ5TG</td>\n",
       "      <td>5.0</td>\n",
       "      <td>1537142400</td>\n",
       "    </tr>\n",
       "    <tr>\n",
       "      <th>95799</th>\n",
       "      <td>B01HGV7M7Y</td>\n",
       "      <td>A1FNPF8RU9JX2K</td>\n",
       "      <td>4.0</td>\n",
       "      <td>1532649600</td>\n",
       "    </tr>\n",
       "  </tbody>\n",
       "</table>\n",
       "<p>95800 rows × 4 columns</p>\n",
       "</div>"
      ],
      "text/plain": [
       "             item            user  rating   timestamp\n",
       "0      0972683275  A1MNILX1J1NWV7     4.0  1464825600\n",
       "1      0972683275  A1JPB4BJHNCSWR     5.0  1409184000\n",
       "2      0972683275  A2A3B0JX2JRS6S     5.0  1379462400\n",
       "3      0972683275  A2BLGQ2SCSKCCY     5.0  1358812800\n",
       "4      0972683275  A21OS6PWQG5YOO     5.0  1337904000\n",
       "...           ...             ...     ...         ...\n",
       "95795  B01H4OYJNI  A2QIFKUBK053ZC     5.0  1531008000\n",
       "95796  B01H4YTHWG  A2SOSDOBI6AHJI     5.0  1537920000\n",
       "95797  B01H4ZLZLQ  A3CHC46D65IH4H     4.0  1536019200\n",
       "95798  B01HGV7M7Y  A1F7KIIWHPQ5TG     5.0  1537142400\n",
       "95799  B01HGV7M7Y  A1FNPF8RU9JX2K     4.0  1532649600\n",
       "\n",
       "[95800 rows x 4 columns]"
      ]
     },
     "execution_count": 84,
     "metadata": {},
     "output_type": "execute_result"
    }
   ],
   "source": [
    "df"
   ]
  },
  {
   "cell_type": "code",
   "execution_count": 85,
   "id": "b5db201d",
   "metadata": {},
   "outputs": [],
   "source": [
    "user = df['user'].unique()\n",
    "item = df['item'].unique()"
   ]
  },
  {
   "cell_type": "code",
   "execution_count": 86,
   "id": "b301d0b5",
   "metadata": {},
   "outputs": [
    {
     "name": "stderr",
     "output_type": "stream",
     "text": [
      "100%|███████████████████████████████████████████████████████████████████████████████████████████████████████████████████| 3821/3821 [00:21<00:00, 181.64it/s]\n"
     ]
    }
   ],
   "source": [
    "#generating history of an user\n",
    "historic_users = []\n",
    "for i,u in enumerate(tqdm.tqdm(user)):\n",
    "    temp = df[df['user']==u]\n",
    "    temp = temp.sort_values('timestamp').reset_index(drop=True)\n",
    "    historic_users.append(temp)"
   ]
  },
  {
   "cell_type": "code",
   "execution_count": 89,
   "id": "80675acb",
   "metadata": {},
   "outputs": [],
   "source": [
    "#add index to timestamp to avoid repeating same timestamp for a user\n",
    "for user in historic_users:\n",
    "    user['timestamp'] = user['timestamp'] + user.index"
   ]
  },
  {
   "cell_type": "code",
   "execution_count": 90,
   "id": "67341b61",
   "metadata": {},
   "outputs": [],
   "source": [
    "lengths = []\n",
    "for user in historic_users:\n",
    "    lengths.append(len(user))"
   ]
  },
  {
   "cell_type": "code",
   "execution_count": 91,
   "id": "deb25e78",
   "metadata": {
    "scrolled": true
   },
   "outputs": [
    {
     "data": {
      "text/plain": [
       "(array([2347.,  842.,  341.,  162.,   52.,   40.,   17.,    9.,    5.,\n",
       "           6.]),\n",
       " array([20. , 24.8, 29.6, 34.4, 39.2, 44. , 48.8, 53.6, 58.4, 63.2, 68. ]),\n",
       " <BarContainer object of 10 artists>)"
      ]
     },
     "execution_count": 91,
     "metadata": {},
     "output_type": "execute_result"
    },
    {
     "data": {
      "image/png": "[encoded data removed]",
      "text/plain": [
       "<Figure size 432x288 with 1 Axes>"
      ]
     },
     "metadata": {
      "needs_background": "light"
     },
     "output_type": "display_data"
    }
   ],
   "source": [
    "import matplotlib.pyplot as plt\n",
    "plt.hist(lengths)"
   ]
  },
  {
   "cell_type": "code",
   "execution_count": 96,
   "id": "d310f9e3",
   "metadata": {},
   "outputs": [],
   "source": [
    "def sample_history_generator(user_history,min_num_states,min_num_actions,states_ratio,sample_size = 10):\n",
    "    n = len(user_history)\n",
    "    sep_ratio = int(states_ratio * n)\n",
    "    nb_states = []\n",
    "    nb_actions = []\n",
    "    nb_states = [np.random.randint(min_num_states,sep_ratio) for i in range(sample_size)]\n",
    "    nb_actions = [min_num_actions for i in range(sample_size)]\n",
    "    states = []\n",
    "    actions = []\n",
    "    for i in range(len(nb_states)):\n",
    "        sample_states = user_history.iloc[0:sep_ratio].sample(nb_states[i])\n",
    "        sample_state = []\n",
    "        sample_action = []\n",
    "        for j in range(nb_states[i]):\n",
    "            row = sample_states.iloc[j]\n",
    "#             state = str(row.loc['item']) + '&' + str(row.loc['rating'])\n",
    "            state = str(row.loc['item'])\n",
    "            sample_state.append(state)            \n",
    "        row = user_history.iloc[-(n - sep_ratio):].sample(nb_actions[i])\n",
    "#             action = str(row.loc['item']) + '&' + str(row.loc['rating'])\n",
    "        action = str(row['item'].item())\n",
    "        sample_action.append(action)\n",
    "        states.append(sample_state)\n",
    "        actions.append(sample_action)\n",
    "    return states,actions"
   ]
  },
  {
   "cell_type": "code",
   "execution_count": 97,
   "id": "ef583cff",
   "metadata": {},
   "outputs": [
    {
     "name": "stderr",
     "output_type": "stream",
     "text": [
      "100%|████████████████████████████████████████████████████████████████████████████████████████████████████████████████████| 3821/3821 [00:46<00:00, 82.89it/s]\n"
     ]
    }
   ],
   "source": [
    "min_num_states = 12\n",
    "min_actions = 1\n",
    "states_ratio = 0.7\n",
    "sample_size = 10\n",
    "sequence_dict = defaultdict(list)\n",
    "for i,users in enumerate(tqdm.tqdm(historic_users)):\n",
    "    states,actions = sample_history_generator(users,min_num_states,min_actions,states_ratio,sample_size)\n",
    "    for i in range(len(states)):\n",
    "        state_str = '|'.join(states[i])\n",
    "        action_str = actions[i][0]\n",
    "        next_state_str = state_str + '|' + action_str\n",
    "        sequence_dict['state'].append(state_str)\n",
    "        sequence_dict['action_reward'].append(action_str)\n",
    "        sequence_dict['next_state'].append(next_state_str)\n",
    "sequence_df = pd.DataFrame(sequence_dict)"
   ]
  },
  {
   "cell_type": "code",
   "execution_count": 98,
   "id": "089cd812",
   "metadata": {},
   "outputs": [
    {
     "data": {
      "text/plain": [
       "7255"
      ]
     },
     "execution_count": 98,
     "metadata": {},
     "output_type": "execute_result"
    }
   ],
   "source": [
    "sequence_df.action_reward.nunique()"
   ]
  },
  {
   "cell_type": "code",
   "execution_count": 102,
   "id": "4449ec74",
   "metadata": {
    "scrolled": true
   },
   "outputs": [
    {
     "data": {
      "text/html": [
       "<div>\n",
       "<style scoped>\n",
       "    .dataframe tbody tr th:only-of-type {\n",
       "        vertical-align: middle;\n",
       "    }\n",
       "\n",
       "    .dataframe tbody tr th {\n",
       "        vertical-align: top;\n",
       "    }\n",
       "\n",
       "    .dataframe thead th {\n",
       "        text-align: right;\n",
       "    }\n",
       "</style>\n",
       "<table border=\"1\" class=\"dataframe\">\n",
       "  <thead>\n",
       "    <tr style=\"text-align: right;\">\n",
       "      <th></th>\n",
       "      <th>state</th>\n",
       "      <th>action_reward</th>\n",
       "      <th>next_state</th>\n",
       "    </tr>\n",
       "  </thead>\n",
       "  <tbody>\n",
       "    <tr>\n",
       "      <th>0</th>\n",
       "      <td>B003ZX8B2S|B005LS2HM0|B00DZ6R9GE|B00RM6Q5HM|B0...</td>\n",
       "      <td>B00QQ7SG48</td>\n",
       "      <td>B003ZX8B2S|B005LS2HM0|B00DZ6R9GE|B00RM6Q5HM|B0...</td>\n",
       "    </tr>\n",
       "    <tr>\n",
       "      <th>1</th>\n",
       "      <td>B009QFKFWS|B004GF8TIK|B00QMSMK4S|B003ZX8B2S|B0...</td>\n",
       "      <td>B006HW5E5Q</td>\n",
       "      <td>B009QFKFWS|B004GF8TIK|B00QMSMK4S|B003ZX8B2S|B0...</td>\n",
       "    </tr>\n",
       "    <tr>\n",
       "      <th>2</th>\n",
       "      <td>B00RM6Q5HM|B00829TIIQ|B003ZX8B2S|B00DYQYLQQ|B0...</td>\n",
       "      <td>B00QQ7SG48</td>\n",
       "      <td>B00RM6Q5HM|B00829TIIQ|B003ZX8B2S|B00DYQYLQQ|B0...</td>\n",
       "    </tr>\n",
       "    <tr>\n",
       "      <th>3</th>\n",
       "      <td>B009381N2E|B004GF8TIK|B003ZX8B2S|B00GHY5JAO|B0...</td>\n",
       "      <td>B006HW5E5Q</td>\n",
       "      <td>B009381N2E|B004GF8TIK|B003ZX8B2S|B00GHY5JAO|B0...</td>\n",
       "    </tr>\n",
       "    <tr>\n",
       "      <th>4</th>\n",
       "      <td>B004GF8TIK|B00GHY5JAO|B015PYZ0J6|B005LS2HM0|B0...</td>\n",
       "      <td>B00ODEGWN8</td>\n",
       "      <td>B004GF8TIK|B00GHY5JAO|B015PYZ0J6|B005LS2HM0|B0...</td>\n",
       "    </tr>\n",
       "    <tr>\n",
       "      <th>...</th>\n",
       "      <td>...</td>\n",
       "      <td>...</td>\n",
       "      <td>...</td>\n",
       "    </tr>\n",
       "    <tr>\n",
       "      <th>38205</th>\n",
       "      <td>B015KTJ5KG|B00LIX177I|B011WBI4S0|B00KFFUWJE|B0...</td>\n",
       "      <td>B016QVZEYI</td>\n",
       "      <td>B015KTJ5KG|B00LIX177I|B011WBI4S0|B00KFFUWJE|B0...</td>\n",
       "    </tr>\n",
       "    <tr>\n",
       "      <th>38206</th>\n",
       "      <td>B01421DST2|B00OAJ412U|B00FR795WA|B010MS67ZG|B0...</td>\n",
       "      <td>B016QVZEYI</td>\n",
       "      <td>B01421DST2|B00OAJ412U|B00FR795WA|B010MS67ZG|B0...</td>\n",
       "    </tr>\n",
       "    <tr>\n",
       "      <th>38207</th>\n",
       "      <td>B00KFFUWJE|B011WBI4S0|B00NBR70A2|B00IO3HB2K|B0...</td>\n",
       "      <td>B00VAYIWSM</td>\n",
       "      <td>B00KFFUWJE|B011WBI4S0|B00NBR70A2|B00IO3HB2K|B0...</td>\n",
       "    </tr>\n",
       "    <tr>\n",
       "      <th>38208</th>\n",
       "      <td>B015KTJ5KG|B00JR2V0SS|B00KFFUWJE|B010MS67ZG|B0...</td>\n",
       "      <td>B013HSW4N2</td>\n",
       "      <td>B015KTJ5KG|B00JR2V0SS|B00KFFUWJE|B010MS67ZG|B0...</td>\n",
       "    </tr>\n",
       "    <tr>\n",
       "      <th>38209</th>\n",
       "      <td>B00FR795WA|B00M1VICHO|B00NJTNQ82|B00IO3HB2K|B0...</td>\n",
       "      <td>B00GM7V8I8</td>\n",
       "      <td>B00FR795WA|B00M1VICHO|B00NJTNQ82|B00IO3HB2K|B0...</td>\n",
       "    </tr>\n",
       "  </tbody>\n",
       "</table>\n",
       "<p>38210 rows × 3 columns</p>\n",
       "</div>"
      ],
      "text/plain": [
       "                                                   state action_reward  \\\n",
       "0      B003ZX8B2S|B005LS2HM0|B00DZ6R9GE|B00RM6Q5HM|B0...    B00QQ7SG48   \n",
       "1      B009QFKFWS|B004GF8TIK|B00QMSMK4S|B003ZX8B2S|B0...    B006HW5E5Q   \n",
       "2      B00RM6Q5HM|B00829TIIQ|B003ZX8B2S|B00DYQYLQQ|B0...    B00QQ7SG48   \n",
       "3      B009381N2E|B004GF8TIK|B003ZX8B2S|B00GHY5JAO|B0...    B006HW5E5Q   \n",
       "4      B004GF8TIK|B00GHY5JAO|B015PYZ0J6|B005LS2HM0|B0...    B00ODEGWN8   \n",
       "...                                                  ...           ...   \n",
       "38205  B015KTJ5KG|B00LIX177I|B011WBI4S0|B00KFFUWJE|B0...    B016QVZEYI   \n",
       "38206  B01421DST2|B00OAJ412U|B00FR795WA|B010MS67ZG|B0...    B016QVZEYI   \n",
       "38207  B00KFFUWJE|B011WBI4S0|B00NBR70A2|B00IO3HB2K|B0...    B00VAYIWSM   \n",
       "38208  B015KTJ5KG|B00JR2V0SS|B00KFFUWJE|B010MS67ZG|B0...    B013HSW4N2   \n",
       "38209  B00FR795WA|B00M1VICHO|B00NJTNQ82|B00IO3HB2K|B0...    B00GM7V8I8   \n",
       "\n",
       "                                              next_state  \n",
       "0      B003ZX8B2S|B005LS2HM0|B00DZ6R9GE|B00RM6Q5HM|B0...  \n",
       "1      B009QFKFWS|B004GF8TIK|B00QMSMK4S|B003ZX8B2S|B0...  \n",
       "2      B00RM6Q5HM|B00829TIIQ|B003ZX8B2S|B00DYQYLQQ|B0...  \n",
       "3      B009381N2E|B004GF8TIK|B003ZX8B2S|B00GHY5JAO|B0...  \n",
       "4      B004GF8TIK|B00GHY5JAO|B015PYZ0J6|B005LS2HM0|B0...  \n",
       "...                                                  ...  \n",
       "38205  B015KTJ5KG|B00LIX177I|B011WBI4S0|B00KFFUWJE|B0...  \n",
       "38206  B01421DST2|B00OAJ412U|B00FR795WA|B010MS67ZG|B0...  \n",
       "38207  B00KFFUWJE|B011WBI4S0|B00NBR70A2|B00IO3HB2K|B0...  \n",
       "38208  B015KTJ5KG|B00JR2V0SS|B00KFFUWJE|B010MS67ZG|B0...  \n",
       "38209  B00FR795WA|B00M1VICHO|B00NJTNQ82|B00IO3HB2K|B0...  \n",
       "\n",
       "[38210 rows x 3 columns]"
      ]
     },
     "execution_count": 102,
     "metadata": {},
     "output_type": "execute_result"
    }
   ],
   "source": [
    "sequence_df"
   ]
  },
  {
   "cell_type": "code",
   "execution_count": 48,
   "id": "28dfd3fa",
   "metadata": {},
   "outputs": [
    {
     "data": {
      "text/plain": [
       "13283"
      ]
     },
     "execution_count": 48,
     "metadata": {},
     "output_type": "execute_result"
    }
   ],
   "source": [
    "df.item.nunique()"
   ]
  },
  {
   "cell_type": "code",
   "execution_count": null,
   "id": "33feae34",
   "metadata": {},
   "outputs": [],
   "source": []
  }
 ],
 "metadata": {
  "kernelspec": {
   "display_name": ".venv",
   "language": "python",
   "name": ".venv"
  },
  "language_info": {
   "codemirror_mode": {
    "name": "ipython",
    "version": 3
   },
   "file_extension": ".py",
   "mimetype": "text/x-python",
   "name": "python",
   "nbconvert_exporter": "python",
   "pygments_lexer": "ipython3",
   "version": "3.8.10"
  }
 },
 "nbformat": 4,
 "nbformat_minor": 5
}
